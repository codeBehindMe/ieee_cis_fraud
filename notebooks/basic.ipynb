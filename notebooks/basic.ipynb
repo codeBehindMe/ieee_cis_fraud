{
 "cells": [
  {
   "cell_type": "markdown",
   "metadata": {},
   "source": [
    "# Basic exploration of the dataset\n",
    "Here we look at the basic exploration of the fraud detection dataset."
   ]
  },
  {
   "cell_type": "code",
   "execution_count": null,
   "metadata": {},
   "outputs": [],
   "source": [
    "import numpy as np\n",
    "import pandas as pd\n",
    "import os\n",
    "import plotly.express as px\n",
    "import plotly\n",
    "from pyspark.sql import SparkSession\n",
    "import pyspark.sql.functions as F\n",
    "import pyspark.sql.types as T"
   ]
  },
  {
   "cell_type": "code",
   "execution_count": null,
   "metadata": {},
   "outputs": [],
   "source": [
    "spark = SparkSession.builder.config(\"spark.driver.memory\",\"30g\").getOrCreate()"
   ]
  },
  {
   "cell_type": "code",
   "execution_count": null,
   "metadata": {},
   "outputs": [],
   "source": [
    "REL_DATA_PATH = \"../data\"\n",
    "TRAIN_TRANSACTION_PATH=f\"{REL_DATA_PATH}/train_transaction.csv\"\n",
    "TRAIN_IDENTITY_PATH=f\"{REL_DATA_PATH}/train_identity.csv\"\n",
    "TEST_TRANSACTION_PATH=f\"{REL_DATA_PATH}/test_transaction.csv\"\n",
    "TEST_IDENTITY_PATH=f\"{REL_DATA_PATH}/test_identity.csv\""
   ]
  },
  {
   "cell_type": "markdown",
   "metadata": {},
   "source": [
    "# Looking at the training data"
   ]
  },
  {
   "cell_type": "code",
   "execution_count": null,
   "metadata": {},
   "outputs": [],
   "source": [
    "train_data = spark.read.csv(TRAIN_TRANSACTION_PATH,header=True, inferSchema=True)"
   ]
  },
  {
   "cell_type": "code",
   "execution_count": null,
   "metadata": {},
   "outputs": [],
   "source": [
    "train_data.dtypes"
   ]
  },
  {
   "cell_type": "code",
   "execution_count": null,
   "metadata": {},
   "outputs": [],
   "source": [
    "train_data.limit(20).toPandas()"
   ]
  },
  {
   "cell_type": "code",
   "execution_count": null,
   "metadata": {},
   "outputs": [],
   "source": [
    "train_data.describe().toPandas()"
   ]
  },
  {
   "cell_type": "markdown",
   "metadata": {},
   "source": [
    "# Looking at individual features\n",
    "## is Fraud\n",
    "This seems to be the ground truth or `target` label. "
   ]
  },
  {
   "cell_type": "code",
   "execution_count": null,
   "metadata": {},
   "outputs": [],
   "source": [
    "px.bar(train_data.groupBy(\"isFraud\").count().toPandas(),x='isFraud',y='count', title=\"Count of transactions by type\")"
   ]
  },
  {
   "cell_type": "markdown",
   "metadata": {},
   "source": [
    "## Transaction DateTime\n",
    "Looking at the `TransactionDT` column. Largely seems to be masked by  some integer conversion. "
   ]
  },
  {
   "cell_type": "code",
   "execution_count": null,
   "metadata": {},
   "outputs": [],
   "source": [
    "train_data.select(\"TransactionDT\").distinct().count()\n"
   ]
  },
  {
   "cell_type": "code",
   "execution_count": null,
   "metadata": {},
   "outputs": [],
   "source": [
    "train_data.groupby('TransactionDT').count().sort('count', ascending=False).toPandas()"
   ]
  },
  {
   "cell_type": "markdown",
   "metadata": {},
   "source": [
    "Seems like most of the timestamps are unique. So Not many more than one transaction happening at once."
   ]
  },
  {
   "cell_type": "markdown",
   "metadata": {},
   "source": [
    ">Might be worthwhile looking to see if the count of fraud is different for transaction events that overlap with others."
   ]
  },
  {
   "cell_type": "markdown",
   "metadata": {},
   "source": [
    "## TransactionAmt\n",
    "This seems to be the transaction amount."
   ]
  },
  {
   "cell_type": "code",
   "execution_count": null,
   "metadata": {},
   "outputs": [],
   "source": [
    "px.histogram(train_data.select(F.col(\"TransactionAmt\").astype('float')).sort(\"TransactionAmt\").toPandas(),x='TransactionAmt', nbins=20)"
   ]
  },
  {
   "cell_type": "markdown",
   "metadata": {},
   "source": [
    "Seems to have a very long tail. Also seems to be negative values?"
   ]
  },
  {
   "cell_type": "code",
   "execution_count": null,
   "metadata": {},
   "outputs": [],
   "source": [
    "train_data.select(\"TransactionAmt\").where(F.col(\"TransactionAmt\").astype('float') < 0).toPandas()"
   ]
  },
  {
   "cell_type": "markdown",
   "metadata": {},
   "source": [
    "Nope seems to be all good. Looks like most of the values are distributed aroudn 0 and 5000, let's look at a closer histogram there."
   ]
  },
  {
   "cell_type": "code",
   "execution_count": null,
   "metadata": {},
   "outputs": [],
   "source": [
    "px.histogram(train_data.where(F.col(\"TransactionAmt\") < 5000).select(F.col(\"TransactionAmt\").astype(\"float\")).toPandas(), x=\"TransactionAmt\", nbins=100)"
   ]
  },
  {
   "cell_type": "markdown",
   "metadata": {},
   "source": [
    "Looks liek most of the transactions are peaked in the 25-75. "
   ]
  },
  {
   "cell_type": "markdown",
   "metadata": {},
   "source": [
    "## ProductCD\n",
    "Looks like product code, assuming that this is the product code of the thing that was pruchased?"
   ]
  },
  {
   "cell_type": "code",
   "execution_count": null,
   "metadata": {},
   "outputs": [],
   "source": [
    "px.histogram(train_data.select(\"ProductCD\").toPandas(), x='ProductCD')"
   ]
  },
  {
   "cell_type": "code",
   "execution_count": null,
   "metadata": {},
   "outputs": [],
   "source": [
    "px.histogram(train_data.select(\"ProductCD\",\"isFraud\").groupBy(\"ProductCD\",\"isFraud\").count().toPandas(), x=\"ProductCD\", color=\"isFraud\", y=\"count\")"
   ]
  },
  {
   "cell_type": "markdown",
   "metadata": {},
   "source": [
    "Looks like `C` has a very high % of fraud compared to the others."
   ]
  },
  {
   "cell_type": "markdown",
   "metadata": {},
   "source": [
    "## card1\n",
    "Seems to be a integer field.\n"
   ]
  },
  {
   "cell_type": "code",
   "execution_count": null,
   "metadata": {},
   "outputs": [],
   "source": [
    "px.histogram(train_data.select(\"card1\").toPandas(), x=\"card1\", nbins=100)"
   ]
  },
  {
   "cell_type": "code",
   "execution_count": null,
   "metadata": {},
   "outputs": [],
   "source": [
    "def get_null_count(d, c):\n",
    "    \"\"\"\n",
    "    Returns a pandas dataframe with the count of nulls\n",
    "    \"\"\"\n",
    "    return d.select(c).withColumn(\"isNull\",F.col(c).isNull()).groupby(\"isNull\").count().toPandas()"
   ]
  },
  {
   "cell_type": "code",
   "execution_count": null,
   "metadata": {},
   "outputs": [],
   "source": [
    "get_null_count(train_data,\"card1\")"
   ]
  },
  {
   "cell_type": "markdown",
   "metadata": {},
   "source": [
    "Seems to not have any nulls. "
   ]
  },
  {
   "cell_type": "markdown",
   "metadata": {},
   "source": [
    "# card2\n",
    "is a floating point value.\n"
   ]
  },
  {
   "cell_type": "code",
   "execution_count": null,
   "metadata": {},
   "outputs": [],
   "source": [
    "px.histogram(train_data.select(\"card2\").toPandas(), x=\"card2\", nbins=100)"
   ]
  },
  {
   "cell_type": "code",
   "execution_count": null,
   "metadata": {},
   "outputs": [],
   "source": [
    "get_null_count(train_data,\"card2\")"
   ]
  },
  {
   "cell_type": "markdown",
   "metadata": {},
   "source": [
    "Seems like there's a few nulls."
   ]
  },
  {
   "cell_type": "markdown",
   "metadata": {},
   "source": [
    "## card3\n",
    "This is also a double field"
   ]
  },
  {
   "cell_type": "code",
   "execution_count": null,
   "metadata": {},
   "outputs": [],
   "source": [
    "px.histogram(train_data.select(\"card3\").toPandas(), x=\"card3\", nbins=100)"
   ]
  },
  {
   "cell_type": "markdown",
   "metadata": {},
   "source": [
    "Hmm interestingly, it seems to be peaking around 150-151. Probably could leave this feature out of the base models."
   ]
  },
  {
   "cell_type": "code",
   "execution_count": null,
   "metadata": {},
   "outputs": [],
   "source": [
    "get_null_count(train_data,\"card3\")"
   ]
  },
  {
   "cell_type": "markdown",
   "metadata": {},
   "source": [
    "Seems to be there is a small amount of nulls here too."
   ]
  },
  {
   "cell_type": "markdown",
   "metadata": {},
   "source": [
    "## card4\n",
    "This is a string / level column"
   ]
  },
  {
   "cell_type": "code",
   "execution_count": null,
   "metadata": {},
   "outputs": [],
   "source": [
    "px.bar(train_data.select(\"card4\",F.col(\"isFraud\").astype(\"string\")).groupby(\"card4\",\"isFraud\").count().toPandas(), x = \"card4\", y = \"count\", color = \"isFraud\")"
   ]
  },
  {
   "cell_type": "markdown",
   "metadata": {},
   "source": [
    "Interestingly there are no fraud records for both `discover` and `AE` cards. "
   ]
  },
  {
   "cell_type": "code",
   "execution_count": null,
   "metadata": {},
   "outputs": [],
   "source": [
    "get_null_count(train_data,\"card4\")"
   ]
  },
  {
   "cell_type": "markdown",
   "metadata": {},
   "source": [
    "Small amount of nulls in this case too."
   ]
  },
  {
   "cell_type": "markdown",
   "metadata": {},
   "source": [
    "## card5\n",
    "This is a floating point feature."
   ]
  },
  {
   "cell_type": "code",
   "execution_count": null,
   "metadata": {},
   "outputs": [],
   "source": [
    "px.histogram(train_data.select(\"card5\").toPandas(), x=\"card5\")"
   ]
  },
  {
   "cell_type": "markdown",
   "metadata": {},
   "source": [
    "This seems also peaky around 224, 226. Might exlude it from the first attempts at models."
   ]
  },
  {
   "cell_type": "code",
   "execution_count": null,
   "metadata": {},
   "outputs": [],
   "source": [
    "get_null_count(train_data,\"card5\")"
   ]
  },
  {
   "cell_type": "markdown",
   "metadata": {},
   "source": [
    "Bit higher number of nulls than the others. "
   ]
  },
  {
   "cell_type": "markdown",
   "metadata": {},
   "source": [
    "## card 6\n",
    "This is a string column. The feature seems to be about card type."
   ]
  },
  {
   "cell_type": "code",
   "execution_count": null,
   "metadata": {},
   "outputs": [],
   "source": [
    "px.bar(train_data.select(\"card6\",F.col(\"isFraud\").astype(\"string\")).groupby(\"card6\",\"isFraud\").count().toPandas(), x= \"card6\", y= \"count\", color = \"isFraud\" )"
   ]
  },
  {
   "cell_type": "markdown",
   "metadata": {},
   "source": [
    "There's more credit card fraud that debit card fraud (proportionally). Which is intuitive I suppose."
   ]
  },
  {
   "cell_type": "code",
   "execution_count": null,
   "metadata": {},
   "outputs": [],
   "source": [
    "get_null_count(train_data,\"card6\")"
   ]
  },
  {
   "cell_type": "markdown",
   "metadata": {},
   "source": [
    "Small amount of nulls here too. "
   ]
  },
  {
   "cell_type": "markdown",
   "metadata": {},
   "source": [
    "## addr1\n",
    "This is a floating point column"
   ]
  },
  {
   "cell_type": "code",
   "execution_count": null,
   "metadata": {},
   "outputs": [],
   "source": [
    "px.histogram(train_data.select(\"addr1\").toPandas(), x= \"addr1\", nbins = 100)"
   ]
  },
  {
   "cell_type": "markdown",
   "metadata": {},
   "source": [
    "Looks a bit spikey, but seems to have prettey good range. Might leave out for the first model. "
   ]
  },
  {
   "cell_type": "code",
   "execution_count": null,
   "metadata": {},
   "outputs": [],
   "source": [
    "get_null_count(train_data,\"addr1\")"
   ]
  },
  {
   "cell_type": "markdown",
   "metadata": {},
   "source": [
    "Lots of nulls too. "
   ]
  },
  {
   "cell_type": "markdown",
   "metadata": {},
   "source": [
    "## addr2\n",
    "This is another floating point column"
   ]
  },
  {
   "cell_type": "code",
   "execution_count": null,
   "metadata": {},
   "outputs": [],
   "source": [
    "px.histogram(train_data.select(\"addr2\").toPandas(), x= \"addr2\", nbins = 100)"
   ]
  },
  {
   "cell_type": "markdown",
   "metadata": {},
   "source": [
    "Very spikey, I think we'll leave this out too."
   ]
  },
  {
   "cell_type": "code",
   "execution_count": null,
   "metadata": {},
   "outputs": [],
   "source": [
    "get_null_count(train_data,\"addr2\")"
   ]
  },
  {
   "cell_type": "markdown",
   "metadata": {},
   "source": [
    "Similar to addr1 when it comes to nulls it seems."
   ]
  },
  {
   "cell_type": "markdown",
   "metadata": {},
   "source": [
    "## P_emaildomain\n",
    "This is a string column. I believe this is the payee email domain."
   ]
  },
  {
   "cell_type": "code",
   "execution_count": null,
   "metadata": {},
   "outputs": [],
   "source": [
    "px.bar(train_data.select(\"P_emaildomain\",F.col(\"isFraud\").astype(\"string\")).groupby(\"P_emaildomain\", \"isFraud\").count().toPandas(), x=\"P_emaildomain\",y=\"count\",color=\"isFraud\")"
   ]
  },
  {
   "cell_type": "markdown",
   "metadata": {},
   "source": [
    "Gmail, yahoo and hotmail seem to have notably visible fraud. Also anonymous.com as well as aol coming in too. Zooming in, shows outlook has quite high fraud too."
   ]
  },
  {
   "cell_type": "code",
   "execution_count": null,
   "metadata": {},
   "outputs": [],
   "source": [
    "get_null_count(train_data,\"P_emaildomain\")"
   ]
  },
  {
   "cell_type": "markdown",
   "metadata": {},
   "source": [
    "Hmm lot's of nulls here too. Maybe leave it out for first attempt. Can just bucket all the nulls into unknown as a first run though."
   ]
  },
  {
   "cell_type": "markdown",
   "metadata": {},
   "source": [
    "## R_emaildomain\n",
    "String column. I believe this is the recipient email domain."
   ]
  },
  {
   "cell_type": "code",
   "execution_count": null,
   "metadata": {},
   "outputs": [],
   "source": [
    "px.bar(train_data.select(\"R_emaildomain\",F.col(\"isFraud\").astype(\"string\")).groupby(\"R_emaildomain\",\"isFraud\").count().toPandas(), x = \"R_emaildomain\", y = \"count\", color=\"isFraud\")"
   ]
  },
  {
   "cell_type": "markdown",
   "metadata": {},
   "source": [
    "Similar outcome to P_emaildomain"
   ]
  },
  {
   "cell_type": "code",
   "execution_count": null,
   "metadata": {},
   "outputs": [],
   "source": [
    "get_null_count(train_data,\"R_emaildomain\")"
   ]
  },
  {
   "cell_type": "markdown",
   "metadata": {},
   "source": [
    "Seems to be mostly nulls, so probably not use this in early models."
   ]
  },
  {
   "cell_type": "markdown",
   "metadata": {},
   "source": [
    "# Summary\n",
    "There are some simple features to get started with, like transaction amount , product type, etc. Which don't need exotic treatment with nulls. \n",
    "\n",
    "We also skipped all the `c` features. We can include them in future investigations."
   ]
  },
  {
   "cell_type": "code",
   "execution_count": null,
   "metadata": {},
   "outputs": [],
   "source": []
  }
 ],
 "metadata": {
  "interpreter": {
   "hash": "949777d72b0d2535278d3dc13498b2535136f6dfe0678499012e853ee9abcab1"
  },
  "kernelspec": {
   "display_name": "Python 3 (ipykernel)",
   "language": "python",
   "name": "python3"
  },
  "language_info": {
   "codemirror_mode": {
    "name": "ipython",
    "version": 3
   },
   "file_extension": ".py",
   "mimetype": "text/x-python",
   "name": "python",
   "nbconvert_exporter": "python",
   "pygments_lexer": "ipython3",
   "version": "3.9.7"
  }
 },
 "nbformat": 4,
 "nbformat_minor": 4
}
